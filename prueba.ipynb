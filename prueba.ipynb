{
 "cells": [
  {
   "cell_type": "markdown",
   "id": "7b18bb41",
   "metadata": {},
   "source": [
    "# Prueba Diente blanco"
   ]
  },
  {
   "cell_type": "code",
   "execution_count": null,
   "id": "3a81207a",
   "metadata": {},
   "outputs": [],
   "source": []
  }
 ],
 "metadata": {
  "language_info": {
   "name": "python"
  }
 },
 "nbformat": 4,
 "nbformat_minor": 5
}
